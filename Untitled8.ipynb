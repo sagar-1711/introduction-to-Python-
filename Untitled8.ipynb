{
 "cells": [
  {
   "cell_type": "code",
   "execution_count": null,
   "metadata": {},
   "outputs": [],
   "source": []
  },
  {
   "cell_type": "code",
   "execution_count": 86,
   "metadata": {},
   "outputs": [
    {
     "name": "stdout",
     "output_type": "stream",
     "text": [
      "5\n",
      "555555555\n",
      "544444445\n",
      "543333345\n",
      "543222345\n",
      "543212345\n",
      "543222345\n",
      "543333345\n",
      "544444445\n",
      "555555555\n"
     ]
    }
   ],
   "source": [
    "n=int(input())\n",
    "for i in range(n,0,-1):\n",
    "    for j in range(n,i,-1):\n",
    "        print(j,end=\"\")\n",
    "    for j in range(1,2*i,1): \n",
    "        print(i,end=\"\")\n",
    "    for j in range(i+1,n+1,1):\n",
    "        print(j,end=\"\")\n",
    "    print()\n",
    "for i in range(1,n,1):\n",
    "    for j in range(n,i,-1):\n",
    "        print(j,end=\"\")\n",
    "    for j in range(1,2*i,1):\n",
    "        print(i+1,end=\"\")\n",
    "    for j in range(i+1,n+1,1):\n",
    "        print(j,end=\"\")\n",
    "    print()"
   ]
  },
  {
   "cell_type": "markdown",
   "metadata": {},
   "source": [
    " 1    2   3    4   5\n",
    " 11   12  13   14  15\n",
    " 21   22  23   24  25\n",
    " 16   17  18   19  20\n",
    " 6    7    8   9   10"
   ]
  },
  {
   "cell_type": "code",
   "execution_count": null,
   "metadata": {
    "scrolled": true
   },
   "outputs": [],
   "source": [
    "n=int(input())\n",
    "n1=n//2\n",
    "n2=n-n1\n",
    "for i in range(1,n+1,1):\n",
    "    k=(n-1)*j\n",
    "    if i%2!=0:\n",
    "        p=i\n",
    "        for j in range(1,n+1,1):\n",
    "            print(p ,end=\"\")\n",
    "            p=p+1\n",
    "    elif i<=n1:\n",
    "        for j in range(1,n+1,1):\n",
    "            print(2*n+j,end=\"\")\n",
    "    elif i>n1:\n",
    "        print(k,end=\"\")\n",
    "        k=k+1\n",
    "    print()"
   ]
  },
  {
   "cell_type": "markdown",
   "metadata": {},
   "source": [
    "#### "
   ]
  },
  {
   "cell_type": "code",
   "execution_count": null,
   "metadata": {},
   "outputs": [],
   "source": []
  },
  {
   "cell_type": "code",
   "execution_count": null,
   "metadata": {},
   "outputs": [],
   "source": []
  }
 ],
 "metadata": {
  "kernelspec": {
   "display_name": "Python 3",
   "language": "python",
   "name": "python3"
  },
  "language_info": {
   "codemirror_mode": {
    "name": "ipython",
    "version": 3
   },
   "file_extension": ".py",
   "mimetype": "text/x-python",
   "name": "python",
   "nbconvert_exporter": "python",
   "pygments_lexer": "ipython3",
   "version": "3.7.3"
  }
 },
 "nbformat": 4,
 "nbformat_minor": 2
}
