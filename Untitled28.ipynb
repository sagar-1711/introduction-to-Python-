{
 "cells": [
  {
   "cell_type": "code",
   "execution_count": null,
   "metadata": {},
   "outputs": [],
   "source": []
  },
  {
   "cell_type": "code",
   "execution_count": null,
   "metadata": {},
   "outputs": [],
   "source": []
  },
  {
   "cell_type": "code",
   "execution_count": 4,
   "metadata": {
    "scrolled": true
   },
   "outputs": [
    {
     "name": "stdout",
     "output_type": "stream",
     "text": [
      "aabcxx\n"
     ]
    },
    {
     "ename": "NameError",
     "evalue": "name 'x' is not defined",
     "output_type": "error",
     "traceback": [
      "\u001b[1;31m---------------------------------------------------------------------------\u001b[0m",
      "\u001b[1;31mNameError\u001b[0m                                 Traceback (most recent call last)",
      "\u001b[1;32m<ipython-input-4-96f188eda09a>\u001b[0m in \u001b[0;36m<module>\u001b[1;34m\u001b[0m\n\u001b[0;32m     10\u001b[0m \u001b[1;31m# Main\u001b[0m\u001b[1;33m\u001b[0m\u001b[1;33m\u001b[0m\u001b[1;33m\u001b[0m\u001b[0m\n\u001b[0;32m     11\u001b[0m \u001b[0ms\u001b[0m \u001b[1;33m=\u001b[0m \u001b[0minput\u001b[0m\u001b[1;33m(\u001b[0m\u001b[1;33m)\u001b[0m\u001b[1;33m\u001b[0m\u001b[1;33m\u001b[0m\u001b[0m\n\u001b[1;32m---> 12\u001b[1;33m \u001b[0mprint\u001b[0m\u001b[1;33m(\u001b[0m\u001b[0mremoveX\u001b[0m\u001b[1;33m(\u001b[0m\u001b[0ms\u001b[0m\u001b[1;33m)\u001b[0m\u001b[1;33m)\u001b[0m\u001b[1;33m\u001b[0m\u001b[1;33m\u001b[0m\u001b[0m\n\u001b[0m",
      "\u001b[1;32m<ipython-input-4-96f188eda09a>\u001b[0m in \u001b[0;36mremoveX\u001b[1;34m(s)\u001b[0m\n\u001b[0;32m      3\u001b[0m     \u001b[1;32mif\u001b[0m \u001b[1;32mnot\u001b[0m \u001b[0ms\u001b[0m\u001b[1;33m:\u001b[0m\u001b[1;33m\u001b[0m\u001b[1;33m\u001b[0m\u001b[0m\n\u001b[0;32m      4\u001b[0m         \u001b[1;32mreturn\u001b[0m \u001b[1;34m''\u001b[0m\u001b[1;33m\u001b[0m\u001b[1;33m\u001b[0m\u001b[0m\n\u001b[1;32m----> 5\u001b[1;33m     \u001b[1;32mif\u001b[0m \u001b[0mx\u001b[0m\u001b[1;33m==\u001b[0m \u001b[0ms\u001b[0m\u001b[1;33m[\u001b[0m\u001b[1;36m0\u001b[0m\u001b[1;33m]\u001b[0m\u001b[1;33m:\u001b[0m\u001b[1;33m\u001b[0m\u001b[1;33m\u001b[0m\u001b[0m\n\u001b[0m\u001b[0;32m      6\u001b[0m         \u001b[1;32mreturn\u001b[0m \u001b[0mremoveX\u001b[0m\u001b[1;33m(\u001b[0m\u001b[0ms\u001b[0m\u001b[1;33m[\u001b[0m\u001b[1;36m1\u001b[0m\u001b[1;33m:\u001b[0m\u001b[1;33m]\u001b[0m\u001b[1;33m)\u001b[0m\u001b[1;33m\u001b[0m\u001b[1;33m\u001b[0m\u001b[0m\n\u001b[0;32m      7\u001b[0m     \u001b[1;32melse\u001b[0m\u001b[1;33m:\u001b[0m\u001b[1;33m\u001b[0m\u001b[1;33m\u001b[0m\u001b[0m\n",
      "\u001b[1;31mNameError\u001b[0m: name 'x' is not defined"
     ]
    }
   ],
   "source": [
    "# Problem: Remove x from string\n",
    "def removeX(s):\n",
    "    if not s:\n",
    "        return ''\n",
    "    if 'x'== s[0]:\n",
    "        return removeX(s[1:])\n",
    "    else:\n",
    "        return s[0] + removeX(s[1:])\n",
    "\n",
    "# Main\n",
    "s = input()\n",
    "print(removeX(s))\n"
   ]
  },
  {
   "cell_type": "code",
   "execution_count": 17,
   "metadata": {},
   "outputs": [
    {
     "name": "stdout",
     "output_type": "stream",
     "text": [
      "aaabcd\n",
      "abcd"
     ]
    }
   ],
   "source": [
    "# Problem ID 91, removeConsecutiveDuplicates\n",
    "def removeConsecutiveDuplicates(S):\n",
    "    n = len(S)    \n",
    "    if (n < 2) : \n",
    "        return\n",
    "    j = 0\n",
    "       \n",
    "    for i in range(n):\n",
    "        if (S[j] != S[i]): \n",
    "            j += 1\n",
    "            S[j] = S[i]\n",
    "    j += 1\n",
    "    S = S[:j] \n",
    "    for ele in S:\n",
    "        print(ele,end=\"\")\n",
    "\n",
    "S1 = input().strip()\n",
    "S1 = list(S1.rstrip()) \n",
    "removeConsecutiveDuplicates(S1)\n"
   ]
  },
  {
   "cell_type": "code",
   "execution_count": 20,
   "metadata": {},
   "outputs": [
    {
     "name": "stdout",
     "output_type": "stream",
     "text": [
      "5\n",
      "1 3 4 5 6\n",
      "1 3 4 5 6\n"
     ]
    }
   ],
   "source": [
    "\n",
    "def mergeSort(arr): \n",
    "    if len(arr) >1: \n",
    "        mid = len(arr)//2\n",
    "        L = arr[:mid] \n",
    "        R = arr[mid:] \n",
    "        mergeSort(L) \n",
    "        mergeSort(R) \n",
    "  \n",
    "        i = j = k = 0\n",
    "          \n",
    "       \n",
    "        while i < len(L) and j < len(R): \n",
    "            if L[i] < R[j]: \n",
    "                arr[k] = L[i] \n",
    "                i+=1\n",
    "            else: \n",
    "                arr[k] = R[j] \n",
    "                j+=1\n",
    "            k+=1\n",
    "          \n",
    "     \n",
    "        while i < len(L): \n",
    "            arr[k] = L[i] \n",
    "            i+=1\n",
    "            k+=1\n",
    "          \n",
    "        while j < len(R): \n",
    "            arr[k] = R[j] \n",
    "            j+=1\n",
    "            k+=1\n",
    "  \n",
    "def printList(arr): \n",
    "    for i in range(len(arr)):         \n",
    "        print(arr[i],end=\" \") \n",
    "    print() \n",
    "  \n",
    "if __name__ == '__main__': \n",
    "    n=int(input())\n",
    "    arr=list(int(i) for i in input().strip().split(' '))\n",
    "    mergeSort(arr)\n",
    "    print(*arr)\n"
   ]
  },
  {
   "cell_type": "code",
   "execution_count": 30,
   "metadata": {},
   "outputs": [
    {
     "name": "stdout",
     "output_type": "stream",
     "text": [
      "5\n",
      "5 4 3 2 1\n",
      "1 2 3 4 5\n"
     ]
    }
   ],
   "source": [
    "\n",
    "def partition(lst, start, end):\n",
    "    pos = start                          \n",
    "                                         \n",
    "\n",
    "    for i in range(start, end):          \n",
    "        if lst[i] < lst[end]:            \n",
    "            pos += 1\n",
    "\n",
    "    lst[pos],lst[end] = lst[end],lst[pos] \n",
    "                                          \n",
    "    return pos\n",
    "\n",
    "def quick_sort_recursive(lst, start, end):\n",
    "    if start < end:                      \n",
    "        pos = partition(lst, start, end)\n",
    "        quick_sort_recursive(lst, start, pos - 1)\n",
    "        quick_sort_recursive(lst, pos + 1, end)\n",
    "        \n",
    "n =int(input())\n",
    "arr=[int(i) for i in input().strip().split(' ')]\n",
    "arr=list(arr)\n",
    "quick_sort_recursive(arr,0,n-1)\n",
    "\n"
   ]
  },
  {
   "cell_type": "markdown",
   "metadata": {},
   "source": [
    "def towerofhanoi(n,from_rod,aux_rod,to_rod):\n",
    "def TowerOfHanoi(n , from_rod, to_rod, aux_rod): \n",
    "    if n == 1: \n",
    "        print(from_rod,to_rod) \n",
    "        return\n",
    "    TowerOfHanoi(n-1, from_rod, aux_rod, to_rod) \n",
    "    print(n,from_rod,to_rod) \n",
    "    TowerOfHanoi(n-1, aux_rod, to_rod, from_rod) \n",
    "    pass\n",
    "\n",
    "n=int(input())\n",
    "towerofhanoi(n, 'a', 'b', 'c')\n"
   ]
  },
  {
   "cell_type": "code",
   "execution_count": 48,
   "metadata": {},
   "outputs": [
    {
     "name": "stdout",
     "output_type": "stream",
     "text": [
      "2\n",
      "a b\n",
      "a c\n",
      "b c\n"
     ]
    }
   ],
   "source": [
    "\n",
    "def TowerOfHanoi(n , from_rod, to_rod, aux_rod): \n",
    "    if n == 1: \n",
    "        print(from_rod,to_rod )\n",
    "        return\n",
    "    TowerOfHanoi(n-1, from_rod, aux_rod, to_rod) \n",
    "    print(from_rod,to_rod )\n",
    "    TowerOfHanoi(n-1, aux_rod, to_rod, from_rod) \n",
    "\n",
    "n=int(input())\n",
    "TowerOfHanoi(n, 'a', 'c', 'b')\n"
   ]
  },
  {
   "cell_type": "code",
   "execution_count": 55,
   "metadata": {},
   "outputs": [
    {
     "name": "stdout",
     "output_type": "stream",
     "text": [
      "3\n",
      "1.75\n"
     ]
    }
   ],
   "source": [
    "def sumOfGP( a, r, n) : \n",
    "      \n",
    "    return (a * (1 - pow(r, n))) / (1 - r) \n",
    "      \n",
    "     \n",
    "a =1 # first term \n",
    "r =1/2\n",
    "n =int(input())\n",
    "  \n",
    "print(sumOfGP(a, r, n)) "
   ]
  },
  {
   "cell_type": "code",
   "execution_count": 56,
   "metadata": {},
   "outputs": [
    {
     "data": {
      "text/plain": [
       "0.5"
      ]
     },
     "execution_count": 56,
     "metadata": {},
     "output_type": "execute_result"
    }
   ],
   "source": [
    "1/2\n"
   ]
  },
  {
   "cell_type": "code",
   "execution_count": 58,
   "metadata": {},
   "outputs": [
    {
     "name": "stdout",
     "output_type": "stream",
     "text": [
      "hih\n",
      "true\n"
     ]
    }
   ],
   "source": [
    "# A recursive function that  \n",
    "# check a str[s..e] is  \n",
    "# palindrome or not. \n",
    "def isPalRec(st, s, e) : \n",
    "      \n",
    "    # If there is only one character \n",
    "    if (s == e): \n",
    "        return True\n",
    "  \n",
    "    # If first and last \n",
    "    # characters do not match \n",
    "    if (st[s] != st[e]) : \n",
    "        return False\n",
    "  \n",
    "    # If there are more than  \n",
    "    # two characters, check if  \n",
    "    # middle substring is also  \n",
    "    # palindrome or not. \n",
    "    if (s < e + 1) : \n",
    "        return isPalRec(st, s + 1, e - 1); \n",
    "  \n",
    "    return True\n",
    "  \n",
    "def isPalindrome(st) : \n",
    "    n = len(st) \n",
    "      \n",
    "    # An empty string is  \n",
    "    # considered as palindrome \n",
    "    if (n == 0) : \n",
    "        return True\n",
    "      \n",
    "    return isPalRec(st, 0, n - 1); \n",
    "  \n",
    "  \n",
    "# Driver Code \n",
    "st =input()\n",
    "if (isPalindrome(st)) : \n",
    "    print(\"true\")\n",
    "else : \n",
    "    print(\"false\")"
   ]
  },
  {
   "cell_type": "code",
   "execution_count": 1,
   "metadata": {},
   "outputs": [
    {
     "name": "stdout",
     "output_type": "stream",
     "text": [
      "101\n"
     ]
    },
    {
     "ename": "TypeError",
     "evalue": "object of type 'int' has no len()",
     "output_type": "error",
     "traceback": [
      "\u001b[1;31m---------------------------------------------------------------------------\u001b[0m",
      "\u001b[1;31mTypeError\u001b[0m                                 Traceback (most recent call last)",
      "\u001b[1;32m<ipython-input-1-23b2fc7a78e6>\u001b[0m in \u001b[0;36m<module>\u001b[1;34m\u001b[0m\n\u001b[0;32m     10\u001b[0m \u001b[1;33m\u001b[0m\u001b[0m\n\u001b[0;32m     11\u001b[0m \u001b[0marr\u001b[0m\u001b[1;33m=\u001b[0m\u001b[0mint\u001b[0m\u001b[1;33m(\u001b[0m\u001b[0minput\u001b[0m\u001b[1;33m(\u001b[0m\u001b[1;33m)\u001b[0m\u001b[1;33m)\u001b[0m\u001b[1;33m\u001b[0m\u001b[1;33m\u001b[0m\u001b[0m\n\u001b[1;32m---> 12\u001b[1;33m \u001b[1;32mif\u001b[0m \u001b[0mcheckNumber\u001b[0m\u001b[1;33m(\u001b[0m\u001b[0marr\u001b[0m\u001b[1;33m)\u001b[0m\u001b[1;33m:\u001b[0m\u001b[1;33m\u001b[0m\u001b[1;33m\u001b[0m\u001b[0m\n\u001b[0m\u001b[0;32m     13\u001b[0m     \u001b[0mprint\u001b[0m\u001b[1;33m(\u001b[0m\u001b[0mcount\u001b[0m\u001b[1;33m)\u001b[0m\u001b[1;33m\u001b[0m\u001b[1;33m\u001b[0m\u001b[0m\n\u001b[0;32m     14\u001b[0m \u001b[1;33m\u001b[0m\u001b[0m\n",
      "\u001b[1;32m<ipython-input-1-23b2fc7a78e6>\u001b[0m in \u001b[0;36mcheckNumber\u001b[1;34m(arr)\u001b[0m\n\u001b[0;32m      1\u001b[0m \u001b[1;32mdef\u001b[0m \u001b[0mcheckNumber\u001b[0m\u001b[1;33m(\u001b[0m\u001b[0marr\u001b[0m\u001b[1;33m)\u001b[0m\u001b[1;33m:\u001b[0m\u001b[1;33m\u001b[0m\u001b[1;33m\u001b[0m\u001b[0m\n\u001b[0;32m      2\u001b[0m     \u001b[0mcount\u001b[0m\u001b[1;33m=\u001b[0m\u001b[1;36m0\u001b[0m\u001b[1;33m\u001b[0m\u001b[1;33m\u001b[0m\u001b[0m\n\u001b[1;32m----> 3\u001b[1;33m     \u001b[0mn\u001b[0m\u001b[1;33m=\u001b[0m\u001b[0mlen\u001b[0m\u001b[1;33m(\u001b[0m\u001b[0marr\u001b[0m\u001b[1;33m)\u001b[0m\u001b[1;33m\u001b[0m\u001b[1;33m\u001b[0m\u001b[0m\n\u001b[0m\u001b[0;32m      4\u001b[0m     \u001b[1;32mif\u001b[0m \u001b[0mn\u001b[0m\u001b[1;33m==\u001b[0m\u001b[1;36m0\u001b[0m\u001b[1;33m:\u001b[0m\u001b[1;33m\u001b[0m\u001b[1;33m\u001b[0m\u001b[0m\n\u001b[0;32m      5\u001b[0m         \u001b[1;32mreturn\u001b[0m\u001b[1;33m\u001b[0m\u001b[1;33m\u001b[0m\u001b[0m\n",
      "\u001b[1;31mTypeError\u001b[0m: object of type 'int' has no len()"
     ]
    }
   ],
   "source": [
    "def checkNumber(arr):\n",
    "    count=0\n",
    "\n",
    "    if n==0:\n",
    "        return\n",
    "    if arr[0]==0:\n",
    "        count+=1\n",
    "        return count\n",
    "    return checkNumber(arr[1:])\n",
    "\n",
    "arr=int(input())\n",
    "if checkNumber(arr):\n",
    "    print(count)\n",
    "\n",
    "    "
   ]
  },
  {
   "cell_type": "code",
   "execution_count": 8,
   "metadata": {},
   "outputs": [
    {
     "name": "stdout",
     "output_type": "stream",
     "text": [
      "aab\n",
      "false\n"
     ]
    }
   ],
   "source": [
    "\n",
    "def check(b,str):\n",
    "    n=len(str)\n",
    "    i=0\n",
    "    if n==0:\n",
    "        return False\n",
    "    if (str[i] == 'a'):\n",
    "\n",
    "        if (str[i+1] == 'b'):\n",
    "\n",
    "            if (str[i+2] == 'b'):\n",
    "            \n",
    "\n",
    "                return True\n",
    "            else:\n",
    "                return False\n",
    "\n",
    "        else:\n",
    "            \n",
    "            return False\n",
    "    else:\n",
    "        \n",
    "        return False;\n",
    "    return check(b,str[1:])\n",
    "\n",
    "str=input()\n",
    "b=True\n",
    "\n",
    "b=check(b,str)\n",
    "if b:\n",
    "    print('true')\n",
    "else:\n",
    "    print('false')\n"
   ]
  },
  {
   "cell_type": "code",
   "execution_count": 34,
   "metadata": {},
   "outputs": [
    {
     "name": "stdout",
     "output_type": "stream",
     "text": [
      "5\n",
      "1 2 3 4 5\n",
      "5\n",
      "-1\n"
     ]
    }
   ],
   "source": [
    "def lastIndex(arr,x,si):\n",
    "    l=len(arr)\n",
    "    if si==l-1:\n",
    "        return -1\n",
    "    smallans= lastIndex(arr[1:],x,si)\n",
    "    if arr[si]==x:\n",
    "        return 1\n",
    "    \n",
    "\n",
    "        \n",
    "        \n",
    "from sys import setrecursionlimit\n",
    "setrecursionlimit(11000)\n",
    "n=int(input())\n",
    "arr=[int(i) for i in input().split()]\n",
    "x=int(input())\n",
    "print(lastIndex(arr,x,0))\n"
   ]
  },
  {
   "cell_type": "code",
   "execution_count": 9,
   "metadata": {},
   "outputs": [
    {
     "name": "stdout",
     "output_type": "stream",
     "text": [
      "false\n",
      "abbc\n",
      "True\n"
     ]
    }
   ],
   "source": [
    "\n",
    "def check(b,str):\n",
    "    \n",
    "    if(str[0] == 'a'):\n",
    "    \n",
    "        if(str[1] == 'b'):\n",
    "            \n",
    "            if(str[2] == 'b'):\n",
    "            \n",
    "                b = True;\n",
    "            else:\n",
    "                b = False;\n",
    "\n",
    "        else:\n",
    "            b = False;\n",
    "    else:\n",
    "        b = False;\n",
    "if b:\n",
    "    print('true')\n",
    "else:\n",
    "    print('false')\n",
    "str=input()\n",
    "b=True\n",
    "check(b,str)\n",
    "print(b)"
   ]
  },
  {
   "cell_type": "code",
   "execution_count": 12,
   "metadata": {},
   "outputs": [
    {
     "name": "stdout",
     "output_type": "stream",
     "text": [
      "abbbba\n",
      "true\n"
     ]
    }
   ],
   "source": [
    "\n",
    "def check(b,str):\n",
    "    n=len(str)\n",
    "    \n",
    "    if n==0:\n",
    "        return False\n",
    "    if str[0]=='a':\n",
    "        return True\n",
    "    \n",
    "    i=0\n",
    "    while i<=n:\n",
    "        if (str[i] == 'a'):\n",
    "\n",
    "            if (str[i+1] == 'b'):\n",
    "\n",
    "                if (str[i+2] == 'b'):\n",
    "\n",
    "\n",
    "                    return True\n",
    "                else:\n",
    "                    return False\n",
    "\n",
    "            else:\n",
    "\n",
    "                return False\n",
    "        else:\n",
    "\n",
    "            return False;\n",
    "        i+=1\n",
    "        return check(b,str[1:])\n",
    "\n",
    "str=input()\n",
    "b=True\n",
    "\n",
    "b=check(b,str)\n",
    "if b:\n",
    "    print('true')\n",
    "else:\n",
    "    print('false')\n"
   ]
  },
  {
   "cell_type": "code",
   "execution_count": 20,
   "metadata": {},
   "outputs": [
    {
     "name": "stdout",
     "output_type": "stream",
     "text": [
      "abbc\n",
      "true\n"
     ]
    }
   ],
   "source": [
    "\n",
    "def check(b,str):\n",
    "    n=len(str)\n",
    "    \n",
    "    if n==0:\n",
    "        return False\n",
    "    if str[0]=='a':\n",
    "        return True\n",
    "    i=0\n",
    "    if str[i]!=\"a\" or str[i]!=\"b\":\n",
    "        return False\n",
    "    while i<=n:\n",
    "        if (str[i] == 'a' ):\n",
    "\n",
    "            if (str[i+1] == 'b'):\n",
    "\n",
    "                if (str[i+2] == 'b'):\n",
    "                    \n",
    "\n",
    "\n",
    "                    return True\n",
    "                else:\n",
    "                    return False\n",
    "\n",
    "            else:\n",
    "\n",
    "                return False\n",
    "        else:\n",
    "\n",
    "            return False;\n",
    "        i+=1\n",
    "        return check(b,str[1:])\n",
    "\n",
    "str=input()\n",
    "b=True\n",
    "\n",
    "b=check(b,str)\n",
    "if b:\n",
    "    print('true')\n",
    "else:\n",
    "    print('false')\n"
   ]
  },
  {
   "cell_type": "code",
   "execution_count": null,
   "metadata": {},
   "outputs": [],
   "source": []
  }
 ],
 "metadata": {
  "kernelspec": {
   "display_name": "Python 3",
   "language": "python",
   "name": "python3"
  },
  "language_info": {
   "codemirror_mode": {
    "name": "ipython",
    "version": 3
   },
   "file_extension": ".py",
   "mimetype": "text/x-python",
   "name": "python",
   "nbconvert_exporter": "python",
   "pygments_lexer": "ipython3",
   "version": "3.7.3"
  }
 },
 "nbformat": 4,
 "nbformat_minor": 2
}
