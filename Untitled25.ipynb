{
 "cells": [
  {
   "cell_type": "code",
   "execution_count": 5,
   "metadata": {},
   "outputs": [
    {
     "name": "stdout",
     "output_type": "stream",
     "text": [
      "4\n",
      "1 2 3 4\n",
      "1\n",
      "true\n"
     ]
    }
   ],
   "source": [
    "def checkNumber(arr,x):\n",
    "    n=len(arr)\n",
    "    if n==1:\n",
    "        return False\n",
    "    if arr[0]==x:\n",
    "        return True\n",
    "    output=checkNumber(arr[1:],x)\n",
    "    return output\n",
    "from sys import setrecursionlimit\n",
    "setrecursionlimit(11000)\n",
    "n=int(input())\n",
    "arr=list(int(i) for i in input().strip().split(' '))\n",
    "x=int(input())\n",
    "if checkNumber(arr,x):\n",
    "    print('true')\n",
    "else:\n",
    "    print('false')\n"
   ]
  },
  {
   "cell_type": "code",
   "execution_count": 31,
   "metadata": {},
   "outputs": [
    {
     "name": "stdout",
     "output_type": "stream",
     "text": [
      "3\n",
      "1 2 3\n",
      "2\n",
      "1\n"
     ]
    }
   ],
   "source": [
    "def firstIndex(arr,x):\n",
    "    l=len(arr)\n",
    "    if l==0:\n",
    "        return -1\n",
    "  \n",
    "    if arr[0]==x:\n",
    "        return 0\n",
    "   \n",
    "    smallans=firstIndex(arr[1:],x)\n",
    "    if smallans==-1:\n",
    "        return -1\n",
    "    else:\n",
    "        return smallans+1\n",
    "    \n",
    "    \n",
    "\n",
    "\n",
    "from sys import setrecursionlimit\n",
    "setrecursionlimit(11000)\n",
    "n=int(input())\n",
    "arr=[int(i) for i in input().split()]\n",
    "x=int(input())\n",
    "print(firstIndex(arr,x))\n"
   ]
  },
  {
   "cell_type": "code",
   "execution_count": 38,
   "metadata": {},
   "outputs": [
    {
     "name": "stdout",
     "output_type": "stream",
     "text": [
      "5\n",
      "1 2 1 2 3 4\n",
      "1\n",
      "2\n"
     ]
    }
   ],
   "source": [
    "def lastIndex(arr,x):\n",
    "    l=len(arr)\n",
    "    if l==0:\n",
    "        return -1\n",
    "  \n",
    "    if arr[l-1]==x:\n",
    "        return l-1\n",
    "   \n",
    "    smallans=lastIndex(arr[:l-1],x)\n",
    "    return smallans\n",
    "    \n",
    "from sys import setrecursionlimit\n",
    "setrecursionlimit(11000)\n",
    "n=int(input())\n",
    "arr=[int(i) for i in input().split()]\n",
    "x=int(input())\n",
    "print(lastIndex(arr,x))\n"
   ]
  },
  {
   "cell_type": "code",
   "execution_count": null,
   "metadata": {},
   "outputs": [],
   "source": []
  }
 ],
 "metadata": {
  "kernelspec": {
   "display_name": "Python 3",
   "language": "python",
   "name": "python3"
  },
  "language_info": {
   "codemirror_mode": {
    "name": "ipython",
    "version": 3
   },
   "file_extension": ".py",
   "mimetype": "text/x-python",
   "name": "python",
   "nbconvert_exporter": "python",
   "pygments_lexer": "ipython3",
   "version": "3.7.3"
  }
 },
 "nbformat": 4,
 "nbformat_minor": 2
}
