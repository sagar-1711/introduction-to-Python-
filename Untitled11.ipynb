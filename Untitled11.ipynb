{
 "cells": [
  {
   "cell_type": "code",
   "execution_count": 1,
   "metadata": {},
   "outputs": [
    {
     "name": "stdout",
     "output_type": "stream",
     "text": [
      "5\n",
      "1 2 4 6 8\n",
      "6\n"
     ]
    }
   ],
   "source": [
    "def secondlargest(arr,n):\n",
    "    L=-1000\n",
    "    S=-1000\n",
    "    for i in range(n):\n",
    "        if L==arr[i]:\n",
    "            continue\n",
    "        elif arr[i]>L:\n",
    "            S=L\n",
    "            L=arr[i]\n",
    "        elif arr[i]<L:\n",
    "            if arr[i]>S:\n",
    "                S=arr[i]\n",
    "            else:\n",
    "                continue\n",
    "    return S\n",
    "n=int(input())\n",
    "arr=[int(x) for x in input().split()]\n",
    "S=secondlargest(arr,n)\n",
    "print(S)\n"
   ]
  },
  {
   "cell_type": "code",
   "execution_count": 25,
   "metadata": {},
   "outputs": [
    {
     "name": "stdout",
     "output_type": "stream",
     "text": [
      "10\n",
      "7 8 9 10 1 2 3 4 5 6 \n",
      "4\n"
     ]
    }
   ],
   "source": [
    "def arrayrotation(arr,n):\n",
    "    count=0\n",
    "    while arr[0]>arr[n-1]:\n",
    "        count=rotate(arr,1,count)\n",
    "    return count\n",
    "def rotate(arr,d,count):\n",
    "    count=count+1\n",
    "    m=len(arr)\n",
    "    for i in range(d):\n",
    "        temp=arr[0]\n",
    "        for j in range(m-1):\n",
    "            arr[j]=arr[j+1]\n",
    "        arr[-1]=temp\n",
    "    return count\n",
    "\n",
    "\n",
    "\n",
    "\n",
    "n=int(input())\n",
    "arr=[int(x) for x in input().split()]\n",
    "result=arrayrotation(arr,n)\n",
    "print(result)\n",
    "\n"
   ]
  },
  {
   "cell_type": "code",
   "execution_count": null,
   "metadata": {},
   "outputs": [],
   "source": []
  }
 ],
 "metadata": {
  "kernelspec": {
   "display_name": "Python 3",
   "language": "python",
   "name": "python3"
  },
  "language_info": {
   "codemirror_mode": {
    "name": "ipython",
    "version": 3
   },
   "file_extension": ".py",
   "mimetype": "text/x-python",
   "name": "python",
   "nbconvert_exporter": "python",
   "pygments_lexer": "ipython3",
   "version": "3.7.3"
  }
 },
 "nbformat": 4,
 "nbformat_minor": 2
}
