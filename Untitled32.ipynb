{
 "cells": [
  {
   "cell_type": "code",
   "execution_count": 10,
   "metadata": {},
   "outputs": [
    {
     "name": "stdout",
     "output_type": "stream",
     "text": [
      "2 0\n",
      "1\n"
     ]
    }
   ],
   "source": [
    "def power(x,n):\n",
    "    if x==0:\n",
    "        return 0\n",
    "    if n==0:\n",
    "        return 1\n",
    "    smallans=power(x,n//2)\n",
    "    if n%2==0:\n",
    "        return smallans*smallans\n",
    "    else:\n",
    "        return x*smallans*smallans\n",
    "\n",
    "x,n=list(int(i) for i in input().strip().split(' '))\n",
    "ans=power(x,n)\n",
    "print(ans)"
   ]
  },
  {
   "cell_type": "code",
   "execution_count": 4,
   "metadata": {},
   "outputs": [
    {
     "name": "stdout",
     "output_type": "stream",
     "text": [
      "3\n",
      "3 2 1\n",
      "4 \n",
      "5 4 3 2\n"
     ]
    }
   ],
   "source": [
    "def intersection(arr1,arr2):\n",
    "    mergeSort(arr1)\n",
    "    mergeSort(arr2)\n",
    "    i=0\n",
    "    j=0\n",
    "    while i!=len(arr1) and j!=len(arr2):\n",
    "        \n",
    "            \n",
    "        if arr1[i]<arr2[j]:\n",
    "            i=i+1\n",
    "        elif arr1[j]<arr2[i]:\n",
    "            j=j+1\n",
    "        else:\n",
    "            print(arr1[i])\n",
    "            i=i+1\n",
    "            j=j+1\n",
    "def mergeSort(arr): \n",
    "    if len(arr) >1: \n",
    "        mid = len(arr)//2 \n",
    "        L = arr[:mid]  \n",
    "        R = arr[mid:] \n",
    "  \n",
    "        mergeSort(L) \n",
    "        mergeSort(R) \n",
    "  \n",
    "        i = j = k = 0 \n",
    "        while i < len(L) and j < len(R): \n",
    "            if L[i] < R[j]: \n",
    "                arr[k] = L[i] \n",
    "                i+=1\n",
    "            else: \n",
    "                arr[k] = R[j] \n",
    "                j+=1\n",
    "            k+=1\n",
    "        while i < len(L): \n",
    "            arr[k] = L[i] \n",
    "            i+=1\n",
    "            k+=1\n",
    "          \n",
    "        while j < len(R): \n",
    "            arr[k] = R[j] \n",
    "            j+=1\n",
    "            k+=1\n",
    "n1=int(input())\n",
    "arr1=list(int(i) for i in input().strip().split(' '))\n",
    "n2=int(input())\n",
    "arr2=list(int(i) for i in input().strip().split(' '))\n",
    "intersection(arr1,arr2) \n"
   ]
  },
  {
   "cell_type": "markdown",
   "metadata": {},
   "source": [
    "class Vehicle:\n",
    "     def __init__(self,color):\n",
    "         self.color = color\n",
    "class Car(Vehicle):\n",
    "     def __init__(self,color,numGears):\n",
    "         self.numGears = numGears\n",
    "c= Car(“black”,5)\n",
    "print(c.color)\n",
    "\n"
   ]
  },
  {
   "cell_type": "code",
   "execution_count": null,
   "metadata": {},
   "outputs": [],
   "source": [
    "class Vehicle:\n",
    "     def __init__(self,color):\n",
    "        self.color = color\n",
    "class Car(Vehicle):\n",
    "     def __init__(self,color,numGears):\n",
    "        self.numGears = numGears\n",
    "c= Car(\"black\",5)\n",
    "print(c.color)\n",
    "\n"
   ]
  },
  {
   "cell_type": "code",
   "execution_count": null,
   "metadata": {},
   "outputs": [],
   "source": []
  }
 ],
 "metadata": {
  "kernelspec": {
   "display_name": "Python 3",
   "language": "python",
   "name": "python3"
  },
  "language_info": {
   "codemirror_mode": {
    "name": "ipython",
    "version": 3
   },
   "file_extension": ".py",
   "mimetype": "text/x-python",
   "name": "python",
   "nbconvert_exporter": "python",
   "pygments_lexer": "ipython3",
   "version": "3.7.3"
  }
 },
 "nbformat": 4,
 "nbformat_minor": 2
}
