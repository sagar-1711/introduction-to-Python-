{
 "cells": [
  {
   "cell_type": "code",
   "execution_count": 2,
   "metadata": {},
   "outputs": [
    {
     "name": "stdout",
     "output_type": "stream",
     "text": [
      "7\n",
      "invalid operation\n",
      "6\n"
     ]
    }
   ],
   "source": [
    "a=int(input())\n",
    "if a:\n",
    "    if a==1:\n",
    "        x=int(input())    \n",
    "        y=int(input())        \n",
    "        print(x+y)\n",
    "        a=int(input())    \n",
    "    elif a==2:\n",
    "        x=int(input())    \n",
    "        y=int(input())        \n",
    "        print(x-y)\n",
    "        a=int(input())\n",
    "    elif a==3:\n",
    "        x=int(input())    \n",
    "        y=int(input())\n",
    "        print(x*y)\n",
    "        a=int(input())\n",
    "    elif a==4:\n",
    "        x=int(input())    \n",
    "        y=int(input())        \n",
    "        print(x//y)\n",
    "        a=int(input())\n",
    "    elif a==5:\n",
    "        x=int(input())    \n",
    "        y=int(input())        \n",
    "        print(x%y)\n",
    "        a=int(input())\n",
    "    elif a==6:\n",
    "        print(\"\")\n",
    "        \n",
    "    else:\n",
    "        print(\"invalid operation\")\n",
    "        a=int(input())"
   ]
  },
  {
   "cell_type": "code",
   "execution_count": 4,
   "metadata": {},
   "outputs": [
    {
     "ename": "SyntaxError",
     "evalue": "invalid syntax (<ipython-input-4-e757e9c61f26>, line 7)",
     "output_type": "error",
     "traceback": [
      "\u001b[1;36m  File \u001b[1;32m\"<ipython-input-4-e757e9c61f26>\"\u001b[1;36m, line \u001b[1;32m7\u001b[0m\n\u001b[1;33m    goto start\u001b[0m\n\u001b[1;37m             ^\u001b[0m\n\u001b[1;31mSyntaxError\u001b[0m\u001b[1;31m:\u001b[0m invalid syntax\n"
     ]
    }
   ],
   "source": []
  },
  {
   "cell_type": "code",
   "execution_count": null,
   "metadata": {},
   "outputs": [],
   "source": [
    "a=int(input())   \n",
    "while a:\n",
    "    if a==1:\n",
    "        x=int(input())    \n",
    "        y=int(input())        \n",
    "        print(x+y)\n",
    "        a=int(input())    \n",
    "    elif a==2:\n",
    "        x=int(input())    \n",
    "        y=int(input())        \n",
    "        print(x-y)\n",
    "        a=int(input())\n",
    "    elif a==3:\n",
    "        x=int(input())    \n",
    "        y=int(input())\n",
    "        print(x*y)\n",
    "        a=int(input())\n",
    "    elif a==4:\n",
    "        x=int(input())    \n",
    "        y=int(input())        \n",
    "        print(x//y)\n",
    "        a=int(input())\n",
    "    elif a==5:\n",
    "        x=int(input())    \n",
    "        y=int(input())        \n",
    "        print(x%y)\n",
    "        a=int(input())\n",
    "    elif a==6:\n",
    "        \n",
    "    else:\n",
    "        print(\"invalid operation\")\n",
    "        a=int(input())"
   ]
  },
  {
   "cell_type": "code",
   "execution_count": null,
   "metadata": {},
   "outputs": [],
   "source": [
    "a=int(input())   \n",
    "while a:\n",
    "    x=int(input())    \n",
    "    y=int(input())  \n",
    "    if a==1        \n",
    "        print(x+y)\n",
    "        a=int(input())    \n",
    "    elif a==2:    \n",
    "        print(x-y)\n",
    "        a=int(input())\n",
    "    elif a==3:\n",
    "        print(x*y)\n",
    "        a=int(input())\n",
    "    elif a==4:        \n",
    "        print(x//y)\n",
    "        a=int(input())\n",
    "    elif a==5:        \n",
    "        print(x%y)\n",
    "        a=int(input())\n",
    "    elif a==6:\n",
    "        break\n",
    "    else:\n",
    "        print(\"invalid operation\")\n",
    "        a=int(input())"
   ]
  },
  {
   "cell_type": "code",
   "execution_count": null,
   "metadata": {},
   "outputs": [],
   "source": []
  }
 ],
 "metadata": {
  "kernelspec": {
   "display_name": "Python 3",
   "language": "python",
   "name": "python3"
  },
  "language_info": {
   "codemirror_mode": {
    "name": "ipython",
    "version": 3
   },
   "file_extension": ".py",
   "mimetype": "text/x-python",
   "name": "python",
   "nbconvert_exporter": "python",
   "pygments_lexer": "ipython3",
   "version": "3.7.3"
  }
 },
 "nbformat": 4,
 "nbformat_minor": 2
}
