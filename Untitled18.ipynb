{
 "cells": [
  {
   "cell_type": "code",
   "execution_count": 3,
   "metadata": {},
   "outputs": [
    {
     "name": "stdout",
     "output_type": "stream",
     "text": [
      "abcd\n",
      "bcd\n"
     ]
    }
   ],
   "source": [
    "str=input()\n",
    "str=str.replace(\"a\",\"\")\n",
    "print(str)"
   ]
  },
  {
   "cell_type": "code",
   "execution_count": 5,
   "metadata": {},
   "outputs": [
    {
     "name": "stdout",
     "output_type": "stream",
     "text": [
      "aabcd\n",
      "a\n",
      "bcd\n"
     ]
    }
   ],
   "source": [
    "def remove_char(str,char1):\n",
    "    ans=\"\"\n",
    "    for char in str:\n",
    "        if char==char1:\n",
    "            continue\n",
    "        else:\n",
    "            ans+=char\n",
    "            \n",
    "    return ans\n",
    "str=input()\n",
    "char1=input()\n",
    "print(remove_char(str,char1))"
   ]
  },
  {
   "cell_type": "code",
   "execution_count": null,
   "metadata": {},
   "outputs": [],
   "source": []
  }
 ],
 "metadata": {
  "kernelspec": {
   "display_name": "Python 3",
   "language": "python",
   "name": "python3"
  },
  "language_info": {
   "codemirror_mode": {
    "name": "ipython",
    "version": 3
   },
   "file_extension": ".py",
   "mimetype": "text/x-python",
   "name": "python",
   "nbconvert_exporter": "python",
   "pygments_lexer": "ipython3",
   "version": "3.7.3"
  }
 },
 "nbformat": 4,
 "nbformat_minor": 2
}
