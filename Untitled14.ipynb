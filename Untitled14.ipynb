{
 "cells": [
  {
   "cell_type": "code",
   "execution_count": 14,
   "metadata": {},
   "outputs": [
    {
     "ename": "SyntaxError",
     "evalue": "invalid syntax (<ipython-input-14-9f5be3a73d7a>, line 15)",
     "output_type": "error",
     "traceback": [
      "\u001b[1;36m  File \u001b[1;32m\"<ipython-input-14-9f5be3a73d7a>\"\u001b[1;36m, line \u001b[1;32m15\u001b[0m\n\u001b[1;33m    str=input()\u001b[0m\n\u001b[1;37m      ^\u001b[0m\n\u001b[1;31mSyntaxError\u001b[0m\u001b[1;31m:\u001b[0m invalid syntax\n"
     ]
    }
   ],
   "source": [
    "def cduplicates(str):\n",
    "    temp=0\n",
    "    str1=[]\n",
    "    flag=\"false\"\n",
    "    for i in range(len(str)):\n",
    "        \n",
    "        if str[i]==str[i+1]:\n",
    "            temp=str[i]\n",
    "            str1.extend(str[i])\n",
    "        elif str[i]==temp and str[i+1]!=temp:\n",
    "            str1.extend(str[i+1])\n",
    "        elif str[i]!=str[i+1]:\n",
    "            str1.extend(str[i+1]\n",
    "   \n",
    "str=input()\n",
    "result=cduplicates(str)\n",
    "print(result)"
   ]
  },
  {
   "cell_type": "code",
   "execution_count": null,
   "metadata": {},
   "outputs": [],
   "source": []
  }
 ],
 "metadata": {
  "kernelspec": {
   "display_name": "Python 3",
   "language": "python",
   "name": "python3"
  },
  "language_info": {
   "codemirror_mode": {
    "name": "ipython",
    "version": 3
   },
   "file_extension": ".py",
   "mimetype": "text/x-python",
   "name": "python",
   "nbconvert_exporter": "python",
   "pygments_lexer": "ipython3",
   "version": "3.7.3"
  }
 },
 "nbformat": 4,
 "nbformat_minor": 2
}
