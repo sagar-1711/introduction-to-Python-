{
 "cells": [
  {
   "cell_type": "code",
   "execution_count": null,
   "metadata": {},
   "outputs": [],
   "source": [
    "a=int(input())\n",
    "if a:\n",
    "    if a==1:\n",
    "        x=int(input())    \n",
    "        y=int(input())        \n",
    "        print(x+y)\n",
    "        a=int(input())    \n",
    "    elif a==2:\n",
    "        x=int(input())    \n",
    "        y=int(input())        \n",
    "        print(x-y)\n",
    "        a=int(input())\n",
    "    elif a==3:\n",
    "        x=int(input())    \n",
    "        y=int(input())\n",
    "        print(x*y)\n",
    "        a=int(input())\n",
    "    elif a==4:\n",
    "        x=int(input())    \n",
    "        y=int(input())        \n",
    "        print(x//y)\n",
    "        a=int(input())\n",
    "    elif a==5:\n",
    "        x=int(input())    \n",
    "        y=int(input())        \n",
    "        print(x%y)\n",
    "        a=int(input())\n",
    "    elif a==6:\n",
    "        continue\n",
    "        \n",
    "        \n",
    "    else:\n",
    "        print(\"invalid operation\")\n",
    "        a=int(input())"
   ]
  },
  {
   "cell_type": "code",
   "execution_count": null,
   "metadata": {},
   "outputs": [],
   "source": []
  },
  {
   "cell_type": "code",
   "execution_count": null,
   "metadata": {},
   "outputs": [],
   "source": []
  }
 ],
 "metadata": {
  "kernelspec": {
   "display_name": "Python 3",
   "language": "python",
   "name": "python3"
  },
  "language_info": {
   "codemirror_mode": {
    "name": "ipython",
    "version": 3
   },
   "file_extension": ".py",
   "mimetype": "text/x-python",
   "name": "python",
   "nbconvert_exporter": "python",
   "pygments_lexer": "ipython3",
   "version": "3.7.3"
  }
 },
 "nbformat": 4,
 "nbformat_minor": 2
}
