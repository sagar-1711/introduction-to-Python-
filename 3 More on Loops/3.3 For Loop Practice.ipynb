{
 "cells": [
  {
   "cell_type": "markdown",
   "metadata": {},
   "source": [
    "For n = 5. Print the following Pattern:-\n",
    "11111\n",
    "0000\n",
    "111\n",
    "00\n",
    "1"
   ]
  },
  {
   "cell_type": "code",
   "execution_count": 16,
   "metadata": {},
   "outputs": [
    {
     "name": "stdout",
     "output_type": "stream",
     "text": [
      "7\n",
      "1111111\n",
      "000000\n",
      "11111\n",
      "0000\n",
      "111\n",
      "00\n",
      "1\n"
     ]
    }
   ],
   "source": [
    "n = int(input())\n",
    "\n",
    "for i in range(1, n+1 , 1):\n",
    "    for j in range(1, n-i+2, 1):\n",
    "        if i%2 == 1:\n",
    "            print(1, end = '')\n",
    "        else:\n",
    "            print(0, end = '')            \n",
    "        k = k + 1        \n",
    "    print()"
   ]
  },
  {
   "cell_type": "markdown",
   "metadata": {},
   "source": [
    "### Pyramid Pattern"
   ]
  },
  {
   "cell_type": "markdown",
   "metadata": {},
   "source": [
    "Print the following pattern for a given n.\n",
    "For eg. N = 6\n",
    "\n",
    "1 2 3 4 5 6\n",
    " 2 3 4 5 6\n",
    "  3 4 5 6\n",
    "   4 5 6\n",
    "    5 6\n",
    "     6\n",
    "    5 6\n",
    "   4 5 6\n",
    "  3 4 5 6\n",
    " 2 3 4 5 6\n",
    "1 2 3 4 5 6 \n"
   ]
  },
  {
   "cell_type": "markdown",
   "metadata": {},
   "source": [
    "First think of upper half\n",
    "1 2 3 4 5 6\n",
    " 2 3 4 5 6\n",
    "  3 4 5 6\n",
    "   4 5 6\n",
    "    5 6\n",
    "     6"
   ]
  },
  {
   "cell_type": "code",
   "execution_count": 33,
   "metadata": {},
   "outputs": [
    {
     "name": "stdout",
     "output_type": "stream",
     "text": [
      "6\n",
      " 1 2 3 4 5 6 \n",
      "  2 3 4 5 6 \n",
      "   3 4 5 6 \n",
      "    4 5 6 \n",
      "     5 6 \n",
      "      6 \n"
     ]
    }
   ],
   "source": [
    "n = int(input())\n",
    "for i in range(1,n+1, 1):\n",
    "    for spaces in range(1, i+1, 1):\n",
    "        print(\" \", end = '')\n",
    "    for j in range(1, n+1, 1):\n",
    "        if j < i:\n",
    "            continue\n",
    "        print(j, end = ' ')\n",
    "    print()"
   ]
  },
  {
   "cell_type": "markdown",
   "metadata": {},
   "source": [
    "### Now try the whole pyramid pattern"
   ]
  },
  {
   "cell_type": "code",
   "execution_count": 69,
   "metadata": {},
   "outputs": [
    {
     "name": "stdout",
     "output_type": "stream",
     "text": [
      "5\n",
      " 1 2 3 4 5 \n",
      "  2 3 4 5 \n",
      "   3 4 5 \n",
      "    4 5 \n",
      "     5 \n",
      "    4 5 \n",
      "   3 4 5 \n",
      "  2 3 4 5 \n",
      " 1 2 3 4 5 \n"
     ]
    }
   ],
   "source": [
    "n = int(input())\n",
    "for i in range(1,n+1, 1):\n",
    "    for spaces in range(1, i+1, 1):\n",
    "        print(\" \", end = '')\n",
    "    for j in range(1, n+1, 1):\n",
    "        if j < i:\n",
    "            continue\n",
    "        print(j, end = ' ') \n",
    "    print()\n",
    "for i in range(n, 2*n-1, 1):\n",
    "    for spaces in range(2*n-i, 1, -1):\n",
    "        print(\" \", end = '')\n",
    "    for k in range(2*n-i-1 ,n+1, 1):\n",
    "        print(k, end = ' ')\n",
    "    print()"
   ]
  },
  {
   "cell_type": "markdown",
   "metadata": {},
   "source": [
    "### Pattern"
   ]
  },
  {
   "cell_type": "markdown",
   "metadata": {},
   "source": [
    "12345\n",
    " 2345\n",
    "  345\n",
    "   45\n",
    "    5\n",
    "   45\n",
    "  345\n",
    " 2345\n",
    "12345"
   ]
  },
  {
   "cell_type": "markdown",
   "metadata": {},
   "source": [
    "First divide the problem into half - The upper half\n",
    "\n",
    "12345\n",
    " 2345\n",
    "  345\n",
    "   45\n",
    "    5\n"
   ]
  },
  {
   "cell_type": "code",
   "execution_count": 71,
   "metadata": {},
   "outputs": [
    {
     "name": "stdout",
     "output_type": "stream",
     "text": [
      "5\n",
      "12345\n",
      " 2345\n",
      "  345\n",
      "   45\n",
      "    5\n"
     ]
    }
   ],
   "source": [
    "n = int(input())\n",
    "for i in range(1,n+1,1):\n",
    "    for spaces in range(1, i, 1):\n",
    "        print(\" \", end ='')\n",
    "    for j in range(i, n+1, 1):\n",
    "        print(j, end = '')\n",
    "    print()\n",
    "    "
   ]
  },
  {
   "cell_type": "code",
   "execution_count": 80,
   "metadata": {},
   "outputs": [
    {
     "name": "stdout",
     "output_type": "stream",
     "text": [
      "5\n",
      "12345\n",
      " 2345\n",
      "  345\n",
      "   45\n",
      "    5\n",
      "   45\n",
      "  345\n",
      " 2345\n",
      "12345\n"
     ]
    }
   ],
   "source": [
    "n = int(input())\n",
    "for i in range(1,n+1,1):\n",
    "    for spaces in range(1, i, 1):\n",
    "        print(\" \", end ='')\n",
    "    for j in range(i, n+1, 1):\n",
    "        print(j, end = '')\n",
    "    print()\n",
    "for i in range(n, 2*n - 1, 1):\n",
    "    for spaces in range(2*n-i-1, 1, -1):\n",
    "        print(\" \", end = '')\n",
    "    for k in range(2*n-i-1 ,n+1, 1):\n",
    "        print(k, end = '')    \n",
    "    print()\n",
    "    "
   ]
  },
  {
   "cell_type": "markdown",
   "metadata": {},
   "source": [
    "### Diamond Pattern"
   ]
  },
  {
   "cell_type": "code",
   "execution_count": null,
   "metadata": {},
   "outputs": [],
   "source": [
    "If n = 7\n",
    "   *\n",
    "  ***\n",
    " *****\n",
    "*******\n",
    " *****\n",
    "  ***\n",
    "   *"
   ]
  },
  {
   "cell_type": "code",
   "execution_count": 1,
   "metadata": {},
   "outputs": [
    {
     "name": "stdout",
     "output_type": "stream",
     "text": [
      "7\n",
      "   *\n",
      "  ***\n",
      " *****\n",
      "*******\n",
      " *****\n",
      "  ***\n",
      "   *\n"
     ]
    }
   ],
   "source": [
    "n=int(input())\n",
    "n1=(n//2+1)\n",
    "for i in range(1,n1+1):\n",
    "    for s in range(1,n1-i+1):\n",
    "        print(' ',end='')\n",
    "    for i in range(1,2*i):\n",
    "        print('*',end='')\n",
    "    print()\n",
    "n2=n-n1\n",
    "for i in range(n2,0,-1):\n",
    "    for s in range(1,n1-i+1):\n",
    "        print(' ',end='')\n",
    "    for i in range(1,2*i):\n",
    "        print('*',end='')\n",
    "    print()"
   ]
  },
  {
   "cell_type": "markdown",
   "metadata": {},
   "source": [
    "### Rectangular Numbers"
   ]
  },
  {
   "cell_type": "code",
   "execution_count": null,
   "metadata": {},
   "outputs": [],
   "source": [
    "Pattern for N = 4\n",
    "\n",
    "4444444\n",
    "4333334\n",
    "4322234\n",
    "4321234\n",
    "4322234\n",
    "4333334  \n",
    "4444444"
   ]
  },
  {
   "cell_type": "markdown",
   "metadata": {},
   "source": [
    "### First divide the pattern into smaller parts. I think the below pattern is  fine"
   ]
  },
  {
   "cell_type": "code",
   "execution_count": null,
   "metadata": {},
   "outputs": [],
   "source": [
    " 555555555\n",
    "  4444444\n",
    "   33333\n",
    "    222\n",
    "     1\n",
    "    222\n",
    "   33333\n",
    "  4444444\n",
    " 555555555"
   ]
  },
  {
   "cell_type": "markdown",
   "metadata": {},
   "source": [
    "Now you can easily print numbers instead of spaces "
   ]
  },
  {
   "cell_type": "code",
   "execution_count": 1,
   "metadata": {},
   "outputs": [
    {
     "name": "stdout",
     "output_type": "stream",
     "text": [
      "4\n",
      "4444444\n",
      " 33333\n",
      "  222\n",
      "   1\n",
      "  222\n",
      " 33333\n",
      "4444444\n"
     ]
    }
   ],
   "source": [
    "n = int(input())\n",
    "temp = n\n",
    "\n",
    "for i in range(1,n+1):\n",
    "    for spaces in range(1, i, 1):\n",
    "        print(\" \", end = '')\n",
    "    for j in range(2*n - 2*i + 2, 1, -1):\n",
    "        print(temp, end = '') \n",
    "    temp = temp - 1\n",
    "    print()\n",
    "temp = 2\n",
    "for i in range(n, 1, -1):\n",
    "    for spaces in range(i, 2, -1):\n",
    "        print(\" \", end = '')\n",
    "    for k in range(2*n - i , i-3, -1):\n",
    "        print(temp, end = '')\n",
    "    temp = temp + 1\n",
    "    print()\n",
    "    "
   ]
  },
  {
   "cell_type": "markdown",
   "metadata": {},
   "source": [
    "Then print the numbers in place of spaces as I've done in the below pattern: \n",
    "Do not hurry divide the pattern in 4 quadrants and fill one by one as I've done the left and right side of the upper part of the pattern\n",
    "\n",
    "N = 5\n",
    "\n",
    "555555555\n",
    "544444445\n",
    "543333345\n",
    "543222345\n",
    "543212345\n",
    "   222\n",
    "  33333\n",
    " 4444444\n",
    "555555555"
   ]
  },
  {
   "cell_type": "code",
   "execution_count": 20,
   "metadata": {},
   "outputs": [
    {
     "name": "stdout",
     "output_type": "stream",
     "text": [
      "5\n",
      "555555555\n",
      "544444445\n",
      "543333345\n",
      "543222345\n",
      "543212345\n",
      "   222\n",
      "  33333\n",
      " 4444444\n",
      "555555555\n"
     ]
    }
   ],
   "source": [
    "n = int(input())\n",
    "temp = n\n",
    "\n",
    "for i in range(1,n+1):\n",
    "    for j in range(1, i, 1):\n",
    "        for x in range(1, i, 2*i):\n",
    "            print(n-j+1, end = '')\n",
    "    for k in range(2*n - 2*i + 2, 1, -1):\n",
    "        print(temp, end = '') \n",
    "    temp = temp - 1\n",
    "    for j in range(i, 1, -1):\n",
    "        for x in range(1, i, 2*i):\n",
    "            print(n-j+2, end = '') \n",
    "    print()\n",
    "temp = 2\n",
    "for i in range(n, 1, -1):\n",
    "    for spaces in range(i, 2, -1):\n",
    "        print(\" \", end = '')\n",
    "    for k in range(2*n - i , i-3, -1):\n",
    "        print(temp, end = '')\n",
    "    temp = temp + 1\n",
    "    print()\n",
    "    "
   ]
  },
  {
   "cell_type": "markdown",
   "metadata": {},
   "source": [
    "Now try to fill the lower half"
   ]
  },
  {
   "cell_type": "code",
   "execution_count": 60,
   "metadata": {},
   "outputs": [
    {
     "name": "stdout",
     "output_type": "stream",
     "text": [
      "5\n",
      "555555555\n",
      "544444445\n",
      "543333345\n",
      "543222345\n",
      "543212345\n",
      "543222345\n",
      "543333345\n",
      "544444445\n",
      "555555555\n"
     ]
    }
   ],
   "source": [
    "n = int(input())\n",
    "temp = n\n",
    "\n",
    "for i in range(1,n+1):\n",
    "    for j in range(1, i, 1):\n",
    "        for x in range(1, i, 2*i):\n",
    "            print(n-j+1, end = '')\n",
    "    for k in range(2*n - 2*i + 2, 1, -1):\n",
    "        print(temp, end = '') \n",
    "    temp = temp - 1\n",
    "    for j in range(i, 1, -1):\n",
    "        for x in range(1, i, 2*i):\n",
    "            print(n-j+2, end = '') \n",
    "    print()\n",
    "    \n",
    "temp = 2\n",
    "for i in range(n, 1, -1):\n",
    "    for j in range(2, i, 1):\n",
    "        print(n - j + 2, end = '')\n",
    "    for k in range(2*n - i , i-3, -1):\n",
    "        print(temp, end = '')\n",
    "    for x in range(i-1, 1, -1):\n",
    "        print(n - x + 2, end = '')\n",
    "    temp = temp + 1\n",
    "    print()\n",
    "    "
   ]
  },
  {
   "cell_type": "markdown",
   "metadata": {},
   "source": [
    "### Print the Pattern "
   ]
  },
  {
   "cell_type": "markdown",
   "metadata": {},
   "source": [
    "Pattern for N = 5\n",
    "\n",
    "Observe the pattern carefully:-\n",
    "                             Pattern\n",
    " 1    2   3    4   5     --> 0 * N + i      # First N is multiplied by 0,2,4 (Even Numbers) then added to i\n",
    " 11   12  13   14  15    --> 2 * N + i \n",
    " 21   22  23   24  25    --> 4 * N + i \n",
    " 16   17  18   19  20    --> 3 * N + i      # Then N is multiplied by 3(<4), 1 (Odd Numbers) then added to i   \n",
    " 6    7    8   9   10    --> 1 * N + i "
   ]
  },
  {
   "cell_type": "code",
   "execution_count": 106,
   "metadata": {},
   "outputs": [
    {
     "name": "stdout",
     "output_type": "stream",
     "text": [
      "4\n",
      "1234\n",
      "9101112\n",
      "13141516\n",
      "5678\n"
     ]
    }
   ],
   "source": [
    "n = int(input())\n",
    "k = 0\n",
    "n1 = n - n//2\n",
    "for i in range(1, n1 + 1):\n",
    "    for j in range(1, n+1):\n",
    "        print(k * n + j, end = '')\n",
    "    print()\n",
    "    k = k + 2\n",
    "n2 = n - n1\n",
    "if n % 2 == 0:\n",
    "    k = n - 1\n",
    "else:\n",
    "    k = n - 2\n",
    "for i in range(1, n2 + 1):\n",
    "    for j in range(1, n + 1):\n",
    "        print(k * n + j, end = '')\n",
    "    print()\n",
    "    k = k - 2"
   ]
  },
  {
   "cell_type": "code",
   "execution_count": null,
   "metadata": {},
   "outputs": [],
   "source": []
  }
 ],
 "metadata": {
  "kernelspec": {
   "display_name": "Python 3",
   "language": "python",
   "name": "python3"
  },
  "language_info": {
   "codemirror_mode": {
    "name": "ipython",
    "version": 3
   },
   "file_extension": ".py",
   "mimetype": "text/x-python",
   "name": "python",
   "nbconvert_exporter": "python",
   "pygments_lexer": "ipython3",
   "version": "3.7.3"
  }
 },
 "nbformat": 4,
 "nbformat_minor": 2
}
