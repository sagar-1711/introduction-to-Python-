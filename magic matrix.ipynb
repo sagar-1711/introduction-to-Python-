{
 "cells": [
  {
   "cell_type": "code",
   "execution_count": null,
   "metadata": {},
   "outputs": [],
   "source": [
    "n=int(input())\n",
    "k=n//2+1\n",
    "for i in range(0,n,2):\n",
    "    m=n*i+1\n",
    "    for j in range(n):\n",
    "        print(m,end=\" \")\n",
    "        m=m+1\n",
    "    print()\n",
    "if n%2==0:\n",
    "    for j in range(n):\n",
    "        print(m,end=\" \")\n",
    "        m=m+1\n",
    "    print()\n",
    "\n",
    "if n%2==0:\n",
    "    I=i-1\n",
    "else:\n",
    "    I=i-1    \n",
    "for i in range(0,n-k,1):\n",
    "    m=n*I+1\n",
    "    for j in range(n):\n",
    "        print(m,end=\" \")\n",
    "        m=m+1\n",
    "    I=I-2\n",
    "    print()\n",
    "    \n",
    "    \n",
    "        \n",
    "\n",
    "\n"
   ]
  },
  {
   "cell_type": "code",
   "execution_count": null,
   "metadata": {},
   "outputs": [],
   "source": []
  },
  {
   "cell_type": "code",
   "execution_count": null,
   "metadata": {},
   "outputs": [],
   "source": []
  }
 ],
 "metadata": {
  "kernelspec": {
   "display_name": "Python 3",
   "language": "python",
   "name": "python3"
  },
  "language_info": {
   "codemirror_mode": {
    "name": "ipython",
    "version": 3
   },
   "file_extension": ".py",
   "mimetype": "text/x-python",
   "name": "python",
   "nbconvert_exporter": "python",
   "pygments_lexer": "ipython3",
   "version": "3.7.3"
  }
 },
 "nbformat": 4,
 "nbformat_minor": 2
}
