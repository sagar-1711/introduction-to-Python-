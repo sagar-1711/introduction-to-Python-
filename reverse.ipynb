{
 "cells": [
  {
   "cell_type": "code",
   "execution_count": 3,
   "metadata": {},
   "outputs": [
    {
     "name": "stdout",
     "output_type": "stream",
     "text": [
      "678\n",
      "876\n"
     ]
    }
   ],
   "source": [
    "N=int(input())\n",
    "rev=0\n",
    "while N>0:\n",
    "    ld=N%10\n",
    "    rev=(rev*10)+ld\n",
    "    N=N//10\n",
    "print(rev)"
   ]
  },
  {
   "cell_type": "code",
   "execution_count": 7,
   "metadata": {},
   "outputs": [
    {
     "name": "stdout",
     "output_type": "stream",
     "text": [
      "1122\n",
      "2 \t 4\n"
     ]
    }
   ],
   "source": [
    "N=int(input())\n",
    "s1=0\n",
    "s2=0\n",
    "while N>0:\n",
    "    ld=N%10\n",
    "    N=N//10\n",
    "    if ld%2==0:\n",
    "       s1=s1+ld\n",
    "    else:\n",
    "       s2=s2+ld\n",
    "print(s2,\"\\t\",s1)\n",
    "        "
   ]
  },
  {
   "cell_type": "markdown",
   "metadata": {},
   "source": [
    "n=int(input())\n",
    "i=1\n",
    "a=1\n",
    "b=0\n",
    "s=1\n",
    "while i<n:\n",
    "    s=a+b\n",
    "    b=a\n",
    "    a=s\n",
    "    i+=1\n",
    "print(s)\n",
    "    "
   ]
  },
  {
   "cell_type": "markdown",
   "metadata": {},
   "source": [
    "#### prime numbers"
   ]
  },
  {
   "cell_type": "code",
   "execution_count": 28,
   "metadata": {},
   "outputs": [
    {
     "name": "stdout",
     "output_type": "stream",
     "text": [
      "4\n",
      "n is not a prime number\n"
     ]
    }
   ],
   "source": [
    "n=int(input())\n",
    "i=2\n",
    "count=0\n",
    "while i<n:\n",
    "    if n%i==0:\n",
    "        count=count+1\n",
    "    i=i+1\n",
    "if count>0:\n",
    "    print(\"n is not a prime number\")\n",
    "else:\n",
    "    print(\"n is a prime number\")\n",
    "        \n",
    "        \n",
    "        "
   ]
  },
  {
   "cell_type": "markdown",
   "metadata": {},
   "source": [
    "all prime nos"
   ]
  },
  {
   "cell_type": "code",
   "execution_count": 46,
   "metadata": {},
   "outputs": [
    {
     "name": "stdout",
     "output_type": "stream",
     "text": [
      "4\n",
      "1\n",
      "11\n",
      "202\n",
      "3003\n"
     ]
    }
   ],
   "source": [
    "N=int(input())\n",
    "i=1\n",
    "k=1\n",
    "while i<=N:\n",
    "    j=1\n",
    "    while j<=i:\n",
    "        if i<=2:\n",
    "            print(k,end='')\n",
    "        else:\n",
    "            if j==1 or j==i:\n",
    "                print(i-1,end='')\n",
    "            else:\n",
    "                print(0,end='')\n",
    "        j=j+1\n",
    "    i=i+1\n",
    "    print()"
   ]
  },
  {
   "cell_type": "code",
   "execution_count": 48,
   "metadata": {},
   "outputs": [
    {
     "name": "stdout",
     "output_type": "stream",
     "text": [
      "3\n",
      "1    1\n",
      "12  21\n",
      "123321\n"
     ]
    }
   ],
   "source": [
    "N=int(input())\n",
    "i=1\n",
    "while i<=N:\n",
    "    j=1\n",
    "    p=1\n",
    "    while j<=i:\n",
    "        print(p,end='')\n",
    "        p=p+1\n",
    "        j=j+1\n",
    "    spaces=1\n",
    "    while spaces<=2*(N-i):\n",
    "        print(' ',end='')\n",
    "        spaces=spaces+1\n",
    "    p=i\n",
    "    while p>=1:\n",
    "        print(p,end='')\n",
    "        p=p-1\n",
    "    print()\n",
    "    i=i+1"
   ]
  },
  {
   "cell_type": "code",
   "execution_count": 56,
   "metadata": {},
   "outputs": [
    {
     "name": "stdout",
     "output_type": "stream",
     "text": [
      "5\n",
      "    1\n",
      "   212\n",
      "  32123\n",
      " 4321234\n",
      "543212345\n"
     ]
    }
   ],
   "source": [
    "N=int(input())\n",
    "i=1\n",
    "while i<=N:\n",
    "    spaces=1\n",
    "    while spaces<=N-i:\n",
    "        print(' ',end='')\n",
    "        spaces=spaces+1\n",
    "    p=i\n",
    "    while p>=1:\n",
    "        print(p,end='')\n",
    "        p=p-1\n",
    "    j=1\n",
    "    p=2\n",
    "    while j<=i-1:\n",
    "        print(p,end='')\n",
    "        p=p+1\n",
    "        j=j+1\n",
    "    print()\n",
    "    i=i+1"
   ]
  },
  {
   "cell_type": "code",
   "execution_count": 57,
   "metadata": {},
   "outputs": [
    {
     "name": "stdout",
     "output_type": "stream",
     "text": [
      "3\n",
      "1\n",
      "1\n"
     ]
    }
   ],
   "source": [
    "## Read input as specified in the question.\n",
    "## Print output as specified in the question.\n",
    "N=int(input())\n",
    "i=1\n",
    "k=N-N/2\n",
    "while i<=k:\n",
    "    spaces=1\n",
    "    while spaces<=k-i:\n",
    "        print(' ',end='')\n",
    "        spaces=spaces+1\n",
    "    p=i\n",
    "    while p>=1:\n",
    "        print(p,end='')\n",
    "        p=p-1\n",
    "    j=1\n",
    "    p=2\n",
    "    while j<=i-1:\n",
    "        print(p,end='')\n",
    "        p=p+1\n",
    "        j=j+1\n",
    "    print()\n",
    "    i=i+1\n",
    "i=1\n",
    "k=N/2\n",
    "while i<=k:\n",
    "    spaces=1\n",
    "    while spaces<=k-i:\n",
    "        print(' ',end='')\n",
    "        spaces=spaces+1\n",
    "    p=i\n",
    "    while p>=1:\n",
    "        print(p,end='')\n",
    "        p=p-1\n",
    "    j=1\n",
    "    p=2\n",
    "    while j<=i-1:\n",
    "        print(p,end='')\n",
    "        p=p+1\n",
    "        j=j+1\n",
    "    print()\n",
    "    i=i+1"
   ]
  },
  {
   "cell_type": "code",
   "execution_count": 60,
   "metadata": {},
   "outputs": [
    {
     "name": "stdout",
     "output_type": "stream",
     "text": [
      "7\n",
      "*\n",
      " **\n",
      "  ***\n",
      "   ****\n"
     ]
    }
   ],
   "source": [
    "N=int(input())\n",
    "i=1\n",
    "k=N-N//2\n",
    "while i<=k:\n",
    "    spaces=1\n",
    "    while spaces<=i-1:\n",
    "        print(' ',end='')\n",
    "        spaces=spaces+1\n",
    "    p=1\n",
    "    while p<=i:\n",
    "        print('*',end='')\n",
    "        p=p+1\n",
    "    print()\n",
    "    i=i+1"
   ]
  },
  {
   "cell_type": "code",
   "execution_count": 98,
   "metadata": {},
   "outputs": [
    {
     "name": "stdout",
     "output_type": "stream",
     "text": [
      "4\n",
      "*000*000*\n",
      "0*00*00*0\n",
      "00*0*0*00\n",
      "000***000\n"
     ]
    }
   ],
   "source": [
    "N=int(input())\n",
    "i=1\n",
    "while i<=N:\n",
    "    j=1\n",
    "    while j<=N:\n",
    "        if i==j:\n",
    "\n",
    "            print('*',end='')\n",
    "        else:\n",
    "            print(0,end='')\n",
    "        j=j+1\n",
    "    while j==N+1:\n",
    "        print('*',end='')\n",
    "        j=j+1\n",
    "    j=1\n",
    "    while j<=N:\n",
    "            if i+j==N+1:\n",
    "                 print('*',end='')\n",
    "            else:\n",
    "                 print(0,end='')\n",
    "            j=j+1\n",
    "    print()\n",
    "    i=i+1\n",
    "    "
   ]
  },
  {
   "cell_type": "code",
   "execution_count": 96,
   "metadata": {},
   "outputs": [
    {
     "name": "stdout",
     "output_type": "stream",
     "text": [
      "4\n",
      "000*\n",
      "00*0\n",
      "0*00\n",
      "*000\n"
     ]
    }
   ],
   "source": [
    " N=int(input())\n",
    "i=1\n",
    "while i<=N:\n",
    "    j=1\n",
    "    while j<=N:\n",
    "            if i+j==N+1:\n",
    "                 print('*',end='')\n",
    "            else:\n",
    "                 print(0,end='')\n",
    "            j=j+1\n",
    "    print()\n",
    "    i=i+1\n",
    "    "
   ]
  },
  {
   "cell_type": "code",
   "execution_count": 109,
   "metadata": {},
   "outputs": [
    {
     "name": "stdout",
     "output_type": "stream",
     "text": [
      "4\n",
      "1234\n",
      " 234\n",
      "  34\n",
      "   4\n",
      "  34\n",
      " 234\n",
      "1234\n"
     ]
    }
   ],
   "source": [
    "n=int(input())\n",
    "n1=2*n-1\n",
    "for i in range(1,n+1,1):\n",
    "    for j in range(1,i,1):\n",
    "        print(' ',end='')\n",
    "    p=i   \n",
    "    for j in range(1,n-i+2,1):\n",
    "        print(p,end='')\n",
    "        p=p+1\n",
    "    print()\n",
    "n2=n-1\n",
    "for i in range(1,n2+1,1):\n",
    "    for j in range(1,n2-i+1,1):\n",
    "        print(' ',end='')\n",
    "    p=n2-i+1   \n",
    "    for j in range(1,i+2,1):\n",
    "        print(p,end='')\n",
    "        p=p+1   \n",
    "    print()\n"
   ]
  },
  {
   "cell_type": "code",
   "execution_count": 106,
   "metadata": {},
   "outputs": [
    {
     "ename": "IndentationError",
     "evalue": "unexpected indent (<ipython-input-106-bc8c60b856b1>, line 2)",
     "output_type": "error",
     "traceback": [
      "\u001b[1;36m  File \u001b[1;32m\"<ipython-input-106-bc8c60b856b1>\"\u001b[1;36m, line \u001b[1;32m2\u001b[0m\n\u001b[1;33m    234\u001b[0m\n\u001b[1;37m    ^\u001b[0m\n\u001b[1;31mIndentationError\u001b[0m\u001b[1;31m:\u001b[0m unexpected indent\n"
     ]
    }
   ],
   "source": [
    "1234\n",
    " 234\n",
    "  34\n",
    "   4\n",
    "  34\n",
    " 234\n",
    "1234"
   ]
  },
  {
   "cell_type": "code",
   "execution_count": null,
   "metadata": {},
   "outputs": [],
   "source": []
  }
 ],
 "metadata": {
  "kernelspec": {
   "display_name": "Python 3",
   "language": "python",
   "name": "python3"
  },
  "language_info": {
   "codemirror_mode": {
    "name": "ipython",
    "version": 3
   },
   "file_extension": ".py",
   "mimetype": "text/x-python",
   "name": "python",
   "nbconvert_exporter": "python",
   "pygments_lexer": "ipython3",
   "version": "3.7.3"
  }
 },
 "nbformat": 4,
 "nbformat_minor": 2
}
