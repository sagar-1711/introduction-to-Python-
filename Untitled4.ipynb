{
 "cells": [
  {
   "cell_type": "code",
   "execution_count": 22,
   "metadata": {},
   "outputs": [
    {
     "name": "stdout",
     "output_type": "stream",
     "text": [
      "7\n",
      "  ***\n",
      " **\n",
      "*\n"
     ]
    }
   ],
   "source": [
    "N=int(input())\n",
    "i=1\n",
    "k=N//2    \n",
    "while i<=k:\n",
    "    spaces=1\n",
    "    while spaces<=k-i:\n",
    "        print(' ',end='')\n",
    "        spaces=spaces+1\n",
    "    stars=1\n",
    "    while stars<=spaces:\n",
    "        print('*',end='')\n",
    "        stars=stars+1\n",
    "    print()\n",
    "    i=i+1"
   ]
  },
  {
   "cell_type": "code",
   "execution_count": 28,
   "metadata": {},
   "outputs": [
    {
     "name": "stdout",
     "output_type": "stream",
     "text": [
      "7\n",
      "*\n",
      " **\n",
      "  ***\n",
      "   ****\n",
      "  ***\n",
      " **\n",
      "*\n"
     ]
    }
   ],
   "source": [
    "N=int(input())\n",
    "i=1\n",
    "k=N-N//2\n",
    "while i<=k:\n",
    "    spaces=1\n",
    "    while spaces<=i-1:\n",
    "        print(' ',end='')\n",
    "        spaces=spaces+1\n",
    "    p=1\n",
    "    while p<=i:\n",
    "        print('*',end='')\n",
    "        p=p+1\n",
    "    print()\n",
    "    i=i+1\n",
    "\n",
    "I=1\n",
    "k=N//2    \n",
    "while I<=k:\n",
    "    spaces=1\n",
    "    \n",
    "    while spaces<=k-I:\n",
    "        print(' ',end='')\n",
    "        spaces=spaces+1\n",
    "    stars=1\n",
    "    while stars<=spaces:\n",
    "        print('*',end='')\n",
    "        stars=stars+1\n",
    "    print()\n",
    "    I=I+1"
   ]
  },
  {
   "cell_type": "code",
   "execution_count": 31,
   "metadata": {},
   "outputs": [
    {
     "name": "stdout",
     "output_type": "stream",
     "text": [
      "3\n",
      "*00000\n",
      "0*0000\n",
      "00*000\n"
     ]
    }
   ],
   "source": [
    "## Read input as specified in the question.\n",
    "## Print output as specified in the question.\n",
    "N=int(input())\n",
    "k=2*N\n",
    "i=1\n",
    "while i<=N:\n",
    "    j=1\n",
    "    while j<=k:\n",
    "        if i==j:\n",
    "            print('*',end='')\n",
    "        else:\n",
    "            print(0,end='')\n",
    "        j=j+1\n",
    "    print()\n",
    "    i=i+1"
   ]
  },
  {
   "cell_type": "code",
   "execution_count": null,
   "metadata": {},
   "outputs": [],
   "source": [
    "## Read input as specified in the question.\n",
    "## Print output as specified in the question.\n",
    "N=int(input())\n",
    "i=1\n",
    "while i<=N:\n",
    "    j=1\n",
    "    while j<=N:\n",
    "        if j<=N:\n",
    "            if i==j:\n",
    "                \n",
    "                print('*',end='')\n",
    "            else:\n",
    "                print(0,end='')\n",
    "            j=j+1\n",
    "        while j==N+1:\n",
    "            print('*',end='')\n",
    "        \n",
    "        \n",
    "            \n",
    "        \n",
    "    print()\n",
    "    i=i+1\n",
    "    "
   ]
  },
  {
   "cell_type": "code",
   "execution_count": null,
   "metadata": {},
   "outputs": [],
   "source": []
  },
  {
   "cell_type": "code",
   "execution_count": null,
   "metadata": {},
   "outputs": [],
   "source": []
  },
  {
   "cell_type": "code",
   "execution_count": null,
   "metadata": {},
   "outputs": [],
   "source": []
  }
 ],
 "metadata": {
  "kernelspec": {
   "display_name": "Python 3",
   "language": "python",
   "name": "python3"
  }
 },
 "nbformat": 4,
 "nbformat_minor": 2
}
