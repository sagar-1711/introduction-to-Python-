{
 "cells": [
  {
   "cell_type": "code",
   "execution_count": 67,
   "metadata": {},
   "outputs": [
    {
     "name": "stdout",
     "output_type": "stream",
     "text": [
      "1 9\n"
     ]
    },
    {
     "ename": "ValueError",
     "evalue": "invalid literal for int() with base 10: '1 9'",
     "output_type": "error",
     "traceback": [
      "\u001b[1;31m---------------------------------------------------------------------------\u001b[0m",
      "\u001b[1;31mValueError\u001b[0m                                Traceback (most recent call last)",
      "\u001b[1;32m<ipython-input-67-7f04f45e4a86>\u001b[0m in \u001b[0;36m<module>\u001b[1;34m\u001b[0m\n\u001b[0;32m     25\u001b[0m \u001b[1;33m\u001b[0m\u001b[0m\n\u001b[0;32m     26\u001b[0m \u001b[1;33m\u001b[0m\u001b[0m\n\u001b[1;32m---> 27\u001b[1;33m \u001b[0ma\u001b[0m\u001b[1;33m=\u001b[0m\u001b[0mint\u001b[0m\u001b[1;33m(\u001b[0m\u001b[0minput\u001b[0m\u001b[1;33m(\u001b[0m\u001b[1;33m)\u001b[0m\u001b[1;33m)\u001b[0m\u001b[1;33m\u001b[0m\u001b[1;33m\u001b[0m\u001b[0m\n\u001b[0m\u001b[0;32m     28\u001b[0m \u001b[0marr\u001b[0m\u001b[1;33m=\u001b[0m\u001b[1;33m[\u001b[0m\u001b[0mint\u001b[0m\u001b[1;33m(\u001b[0m\u001b[0mx\u001b[0m\u001b[1;33m)\u001b[0m \u001b[1;32mfor\u001b[0m \u001b[0mx\u001b[0m \u001b[1;32min\u001b[0m \u001b[0minput\u001b[0m\u001b[1;33m(\u001b[0m\u001b[1;33m)\u001b[0m\u001b[1;33m.\u001b[0m\u001b[0msplit\u001b[0m\u001b[1;33m(\u001b[0m\u001b[1;33m)\u001b[0m\u001b[1;33m]\u001b[0m\u001b[1;33m\u001b[0m\u001b[1;33m\u001b[0m\u001b[0m\n\u001b[0;32m     29\u001b[0m \u001b[0msort\u001b[0m\u001b[1;33m(\u001b[0m\u001b[0marr\u001b[0m\u001b[1;33m)\u001b[0m\u001b[1;33m\u001b[0m\u001b[1;33m\u001b[0m\u001b[0m\n",
      "\u001b[1;31mValueError\u001b[0m: invalid literal for int() with base 10: '1 9'"
     ]
    }
   ],
   "source": [
    "def sort(arr):\n",
    "    length=len(arr)\n",
    "    nz=0\n",
    "    i=0\n",
    "    nT=length-1\n",
    "    while i<nT:\n",
    "        if i>nT:\n",
    "            i=i+1\n",
    "        \n",
    "        elif arr[i]==1:\n",
    "            i=i+1\n",
    "        elif arr[i]==0:\n",
    "            arr[nz],arr[i]=arr[i],arr[nz]\n",
    "            i=i+1\n",
    "            nz=nz+1\n",
    "        elif arr[i]==2:\n",
    "            arr[nT],arr[i]=arr[i],arr[nT]\n",
    "            nT=nT-1\n",
    "            if arr[i]==0:\n",
    "                arr[nz],arr[i]=arr[i],arr[nz]\n",
    "                i=i+1\n",
    "                nz=nz+1\n",
    "                \n",
    "                \n",
    "\n",
    "\n",
    "a=int(input())\n",
    "arr=[int(x) for x in input().split()]   \n",
    "sort(arr)\n",
    "print(*arr)\n",
    "    "
   ]
  },
  {
   "cell_type": "markdown",
   "metadata": {},
   "source": [
    "def sumarr(arr1,arr2):\n",
    "    if len(arr1)>=len(arr2):\n",
    "        i=len(arr1)-1\n",
    "        j=len(arr2)-1\n",
    "    else:\n",
    "        i=len(arr2)-1\n",
    "        j=len(arr1)-1\n",
    "    carry=0\n",
    "    store=0\n",
    "    n=i+1\n",
    "    arr=[0]*n\n",
    "    k=i-1\n",
    "    while j>=0:\n",
    "        sum=arr1[i]+arr2[j]+carry\n",
    "        carry=sum//10\n",
    "        store=sum%10\n",
    "        print(carry,sum)\n",
    "        arr[k]=store\n",
    "        i=i-1\n",
    "        j=j-1\n",
    "        k=k-1\n",
    "    \n",
    "    else:\n",
    "        while i>=0:\n",
    "            sum=arr1[i]+carry\n",
    "            carry=sum//10\n",
    "            store=sum%10\n",
    "            if i==0 and carry==1:\n",
    "                arr[k]=arr.append(carry)\n",
    "            arr[k]=store\n",
    "            i=i-1\n",
    "            k=k-1\n",
    "            \n",
    "            \n",
    "    return arr\n",
    "arr1=[int(x) for x in input().split()]\n",
    "arr2=[int(x) for x in input().split()]\n",
    "arr=sumarr(arr1,arr2)\n",
    "print(*arr[::-1])\n",
    "    "
   ]
  },
  {
   "cell_type": "code",
   "execution_count": null,
   "metadata": {},
   "outputs": [],
   "source": []
  },
  {
   "cell_type": "code",
   "execution_count": null,
   "metadata": {},
   "outputs": [],
   "source": [
    "1 2 3 4\n",
    "5\n"
   ]
  }
 ],
 "metadata": {
  "kernelspec": {
   "display_name": "Python 3",
   "language": "python",
   "name": "python3"
  },
  "language_info": {
   "codemirror_mode": {
    "name": "ipython",
    "version": 3
   },
   "file_extension": ".py",
   "mimetype": "text/x-python",
   "name": "python",
   "nbconvert_exporter": "python",
   "pygments_lexer": "ipython3",
   "version": "3.7.3"
  }
 },
 "nbformat": 4,
 "nbformat_minor": 2
}
